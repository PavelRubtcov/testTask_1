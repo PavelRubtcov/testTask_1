{
  "nbformat": 4,
  "nbformat_minor": 0,
  "metadata": {
    "colab": {
      "provenance": [],
      "authorship_tag": "ABX9TyP7MT2e2inkxbS5Bi08gIXY",
      "include_colab_link": true
    },
    "kernelspec": {
      "name": "python3",
      "display_name": "Python 3"
    },
    "language_info": {
      "name": "python"
    }
  },
  "cells": [
    {
      "cell_type": "markdown",
      "metadata": {
        "id": "view-in-github",
        "colab_type": "text"
      },
      "source": [
        "<a href=\"https://colab.research.google.com/github/PavelRubtcov/testTask_1/blob/main/testTaskColab.ipynb\" target=\"_parent\"><img src=\"https://colab.research.google.com/assets/colab-badge.svg\" alt=\"Open In Colab\"/></a>"
      ]
    },
    {
      "cell_type": "code",
      "execution_count": 1,
      "metadata": {
        "id": "c5g3CmCIcN-r"
      },
      "outputs": [],
      "source": [
        "!pip install pyngrok --quiet"
      ]
    },
    {
      "cell_type": "code",
      "source": [
        "!git clone https://github.com/PavelRubtcov/testTask_1.git testTask_1\n"
      ],
      "metadata": {
        "colab": {
          "base_uri": "https://localhost:8080/"
        },
        "id": "Hi_7xDDecVYo",
        "outputId": "df03b60d-63cb-4797-c585-b490ed274897"
      },
      "execution_count": 2,
      "outputs": [
        {
          "output_type": "stream",
          "name": "stdout",
          "text": [
            "Cloning into 'testTask_1'...\n",
            "remote: Enumerating objects: 37, done.\u001b[K\n",
            "remote: Counting objects: 100% (37/37), done.\u001b[K\n",
            "remote: Compressing objects: 100% (35/35), done.\u001b[K\n",
            "remote: Total 37 (delta 3), reused 0 (delta 0), pack-reused 0\u001b[K\n",
            "Receiving objects: 100% (37/37), 19.45 KiB | 6.48 MiB/s, done.\n",
            "Resolving deltas: 100% (3/3), done.\n"
          ]
        }
      ]
    },
    {
      "cell_type": "code",
      "source": [
        "!pip install -r /content/testTask_1/requires.txt"
      ],
      "metadata": {
        "colab": {
          "base_uri": "https://localhost:8080/"
        },
        "id": "BSvBLA3CceOl",
        "outputId": "68d5301d-a41e-4e9e-e385-60c4478db33e"
      },
      "execution_count": 1,
      "outputs": [
        {
          "output_type": "stream",
          "name": "stdout",
          "text": [
            "Requirement already satisfied: opencv-python==4.10.0.82 in /usr/local/lib/python3.10/dist-packages (from -r /content/testTask_1/requires.txt (line 1)) (4.10.0.82)\n",
            "Requirement already satisfied: numpy==1.25.0 in /usr/local/lib/python3.10/dist-packages (from -r /content/testTask_1/requires.txt (line 2)) (1.25.0)\n",
            "Requirement already satisfied: Django==5.0.6 in /usr/local/lib/python3.10/dist-packages (from -r /content/testTask_1/requires.txt (line 3)) (5.0.6)\n",
            "Requirement already satisfied: asgiref<4,>=3.7.0 in /usr/local/lib/python3.10/dist-packages (from Django==5.0.6->-r /content/testTask_1/requires.txt (line 3)) (3.8.1)\n",
            "Requirement already satisfied: sqlparse>=0.3.1 in /usr/local/lib/python3.10/dist-packages (from Django==5.0.6->-r /content/testTask_1/requires.txt (line 3)) (0.5.0)\n",
            "Requirement already satisfied: typing-extensions>=4 in /usr/local/lib/python3.10/dist-packages (from asgiref<4,>=3.7.0->Django==5.0.6->-r /content/testTask_1/requires.txt (line 3)) (4.12.2)\n"
          ]
        }
      ]
    },
    {
      "cell_type": "code",
      "source": [
        "%cd /content/testTask_1/testTask"
      ],
      "metadata": {
        "colab": {
          "base_uri": "https://localhost:8080/"
        },
        "id": "E3OsnylNd61F",
        "outputId": "ff8bbd3b-68fe-4380-e55e-b6c1a6721151"
      },
      "execution_count": 2,
      "outputs": [
        {
          "output_type": "stream",
          "name": "stdout",
          "text": [
            "/content/testTask_1/testTask\n"
          ]
        }
      ]
    },
    {
      "cell_type": "code",
      "source": [
        "from google.colab.output import eval_js\n",
        "print(eval_js(\"google.colab.kernel.proxyPort(8000)\"))\n",
        "\n",
        "from pyngrok import ngrok\n",
        "\n",
        "# получаем токен https://dashboard.ngrok.com/get-started/your-authtoken\n",
        "auth_token = \"2ihJE62GfVBLppi6MpKiKk65wKH_6mBtgKxoKbNNxFNbFvqWH\"\n",
        "ngrok.set_auth_token(auth_token)\n",
        "ngrok.kill()\n",
        "ngstart = ngrok.connect(8000)\n",
        "ngrock_public_url = ngstart.public_url # Это можно для чего-то использовать\n",
        "print(ngstart)\n",
        "print(ngrock_public_url)"
      ],
      "metadata": {
        "colab": {
          "base_uri": "https://localhost:8080/",
          "height": 71
        },
        "id": "pEkFSvZx-c-k",
        "outputId": "62111dfe-3c84-42fd-e27c-6e90c8b34149"
      },
      "execution_count": 83,
      "outputs": [
        {
          "output_type": "stream",
          "name": "stdout",
          "text": [
            "https://jrwask6bihd-496ff2e9c6d22116-8000-colab.googleusercontent.com/\n",
            "NgrokTunnel: \"https://7f19-35-237-82-133.ngrok-free.app\" -> \"http://localhost:8000\"\n",
            "https://7f19-35-237-82-133.ngrok-free.app\n"
          ]
        }
      ]
    },
    {
      "cell_type": "code",
      "source": [
        "!python manage.py makemigrations\n",
        "# Создаем суперюзера django"
      ],
      "metadata": {
        "colab": {
          "base_uri": "https://localhost:8080/"
        },
        "id": "4ovfZLXeebkT",
        "outputId": "a6fbbbac-7e98-4609-e160-1ff511667c3a"
      },
      "execution_count": 13,
      "outputs": [
        {
          "output_type": "stream",
          "name": "stdout",
          "text": [
            "\u001b[36;1mMigrations for 'runningLine':\u001b[0m\n",
            "  \u001b[1mrunningLine/migrations/0003_initial.py\u001b[0m\n",
            "    - Create model Request\n"
          ]
        }
      ]
    },
    {
      "cell_type": "code",
      "source": [
        "!python manage.py migrate"
      ],
      "metadata": {
        "colab": {
          "base_uri": "https://localhost:8080/"
        },
        "id": "Nt4FdovjimA8",
        "outputId": "5add3297-f421-4302-fe1d-972d3fd3a790"
      },
      "execution_count": 14,
      "outputs": [
        {
          "output_type": "stream",
          "name": "stdout",
          "text": [
            "\u001b[36;1mOperations to perform:\u001b[0m\n",
            "\u001b[1m  Apply all migrations: \u001b[0madmin, auth, contenttypes, runningLine, sessions\n",
            "\u001b[36;1mRunning migrations:\u001b[0m\n",
            "  Applying runningLine.0003_initial...\u001b[32;1m OK\u001b[0m\n"
          ]
        }
      ]
    },
    {
      "cell_type": "code",
      "source": [
        "!echo \"from django.contrib.auth.models import User; User.objects.create_superuser('admin', 'admin@example.com', 'pass')\""
      ],
      "metadata": {
        "colab": {
          "base_uri": "https://localhost:8080/"
        },
        "id": "DHHLPAgZikgH",
        "outputId": "cd0ede36-8984-44c2-8e1d-04503c0bfef9"
      },
      "execution_count": 15,
      "outputs": [
        {
          "output_type": "stream",
          "name": "stdout",
          "text": [
            "from django.contrib.auth.models import User; User.objects.create_superuser('admin', 'admin@example.com', 'pass')\n"
          ]
        }
      ]
    },
    {
      "cell_type": "code",
      "source": [
        "!ngrok http http://localhost:8000"
      ],
      "metadata": {
        "colab": {
          "base_uri": "https://localhost:8080/"
        },
        "id": "rUhyt2Ug10UE",
        "outputId": "8657709c-3379-4de7-a8d5-019d3b2a72ed"
      },
      "execution_count": 63,
      "outputs": [
        {
          "output_type": "stream",
          "name": "stdout",
          "text": [
            "Traceback (most recent call last):\n",
            "  File \"/usr/lib/python3.10/subprocess.py\", line 1209, in wait\n",
            "    return self._wait(timeout=timeout)\n",
            "  File \"/usr/lib/python3.10/subprocess.py\", line 1959, in _wait\n",
            "    (pid, sts) = self._try_wait(0)\n",
            "  File \"/usr/lib/python3.10/subprocess.py\", line 1917, in _try_wait\n",
            "    (pid, sts) = os.waitpid(self.pid, wait_flags)\n",
            "KeyboardInterrupt\n",
            "\n",
            "During handling of the above exception, another exception occurred:\n",
            "\n",
            "Traceback (most recent call last):\n",
            "  File \"/usr/local/bin/ngrok\", line 8, in <module>\n",
            "    sys.exit(main())\n",
            "  File \"/usr/local/lib/python3.10/dist-packages/pyngrok/ngrok.py\", line 578, in main\n",
            "    run(sys.argv[1:])\n",
            "  File \"/usr/local/lib/python3.10/dist-packages/pyngrok/ngrok.py\", line 566, in run\n",
            "    process.run_process(pyngrok_config.ngrok_path, args)\n",
            "  File \"/usr/local/lib/python3.10/dist-packages/pyngrok/process.py\", line 276, in run_process\n",
            "    subprocess.call(start)\n",
            "  File \"/usr/lib/python3.10/subprocess.py\", line 347, in call\n",
            "    return p.wait(timeout=timeout)\n",
            "  File \"/usr/lib/python3.10/subprocess.py\", line 1222, in wait\n",
            "    self._wait(timeout=sigint_timeout)\n",
            "  File \"/usr/lib/python3.10/subprocess.py\", line 1953, in _wait\n",
            "    time.sleep(delay)\n",
            "KeyboardInterrupt\n",
            "^C\n"
          ]
        }
      ]
    },
    {
      "cell_type": "code",
      "source": [
        "!python manage.py runserver"
      ],
      "metadata": {
        "colab": {
          "base_uri": "https://localhost:8080/"
        },
        "id": "tPdU2YHYjWKL",
        "outputId": "1120c1cb-ae83-4b6e-d8d5-ed1dd407757e"
      },
      "execution_count": 84,
      "outputs": [
        {
          "output_type": "stream",
          "name": "stdout",
          "text": [
            "manage.py\n",
            "manage.py\n",
            "Watching for file changes with StatReloader\n",
            "Performing system checks...\n",
            "\n",
            "System check identified no issues (0 silenced).\n",
            "July 04, 2024 - 18:48:32\n",
            "Django version 5.0.6, using settings 'testTask.settings'\n",
            "Starting development server at http://127.0.0.1:8000/\n",
            "Quit the server with CONTROL-C.\n",
            "\n",
            "hello\n",
            "[04/Jul/2024 18:48:38] \u001b[m\"GET / HTTP/1.1\" 200 80\u001b[0m\n",
            "textGenerator\n",
            "[04/Jul/2024 18:48:40] \u001b[m\"GET /favicon.ico HTTP/1.1\" 200 66\u001b[0m\n",
            "textGenerator\n",
            "WRiting  dd2\n",
            "End wRiting  dd2\n",
            "[04/Jul/2024 18:48:43] \u001b[m\"GET /dd2 HTTP/1.1\" 200 67\u001b[0m\n",
            "textGenerator\n",
            "[04/Jul/2024 18:48:45] \u001b[m\"GET /favicon.ico HTTP/1.1\" 200 66\u001b[0m\n",
            "textGenerator\n",
            "WRiting  dd3\n",
            "End wRiting  dd3\n",
            "[04/Jul/2024 18:48:49] \u001b[m\"GET /dd3 HTTP/1.1\" 200 67\u001b[0m\n",
            "textGenerator\n",
            "[04/Jul/2024 18:48:50] \u001b[m\"GET /favicon.ico HTTP/1.1\" 200 66\u001b[0m\n"
          ]
        }
      ]
    }
  ]
}